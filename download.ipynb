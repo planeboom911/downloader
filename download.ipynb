{
  "nbformat": 4,
  "nbformat_minor": 0,
  "metadata": {
    "colab": {
      "name": "download.ipynb",
      "provenance": [],
      "mount_file_id": "1xGAiGOUpQZDm9KIvMXrYrU8hyXBMxscm",
      "authorship_tag": "ABX9TyNHUom0nbd4OQyzSzIhUuED",
      "include_colab_link": true
    },
    "kernelspec": {
      "name": "python3",
      "display_name": "Python 3"
    },
    "language_info": {
      "name": "python"
    }
  },
  "cells": [
    {
      "cell_type": "markdown",
      "metadata": {
        "id": "view-in-github",
        "colab_type": "text"
      },
      "source": [
        "<a href=\"https://colab.research.google.com/github/planeboom911/downloader/blob/main/download.ipynb\" target=\"_parent\"><img src=\"https://colab.research.google.com/assets/colab-badge.svg\" alt=\"Open In Colab\"/></a>"
      ]
    },
    {
      "cell_type": "markdown",
      "metadata": {
        "id": "MoLddhWRxwdv"
      },
      "source": [
        "<a href=\"https://github.com/planeboom911/downloader\">\n",
        "<img src=\"https://github.com/fluidicon.png\" height=100px, align=\"left\"></a>\n",
        "\n",
        "\n",
        "\n",
        "<center><h1><b>Superfast downloader</h1></b></center>"
      ]
    },
    {
      "cell_type": "code",
      "metadata": {
        "cellView": "form",
        "id": "H0qP3yiDrMD8"
      },
      "source": [
        "#@title Superfast downloader\n",
        "from google.colab import drive\n",
        "from google.colab import files\n",
        "import os\n",
        "url = \"\" #@param {type: \"string\"}\n",
        "download_filename = \"file.bin\" #@param {type: \"string\"}\n",
        "download_loc = f\"/content/drive/MyDrive/${download_filename}\"\n",
        "!curl -L -o \"$download_loc\" \"$url\"\n",
        "files.download(download_loc)\n"
        "\n"
      ],
      "execution_count": null,
      "outputs": []
    }
  ]
}
